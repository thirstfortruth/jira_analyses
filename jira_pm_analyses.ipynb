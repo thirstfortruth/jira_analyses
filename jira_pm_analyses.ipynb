{
 "cells": [
  {
   "cell_type": "code",
   "execution_count": 1,
   "metadata": {},
   "outputs": [],
   "source": [
    "from datetime import datetime\n",
    "import random as rd\n",
    "import pandas as pd\n",
    "import numpy as np\n",
    "import matplotlib.pyplot as plt\n",
    "%matplotlib inline"
   ]
  },
  {
   "cell_type": "code",
   "execution_count": 2,
   "metadata": {},
   "outputs": [],
   "source": [
    "file = 'D:\\work\\Jira_analyses\\out_csv.csv'\n",
    "#file_extended = 'E:\\work\\my tasks\\Jira_analyses\\out_csv1.csv'\n",
    "#file = 'E:\\work\\my tasks\\Jira_analyses\\out_csv.csv'"
   ]
  },
  {
   "cell_type": "code",
   "execution_count": 3,
   "metadata": {},
   "outputs": [],
   "source": [
    "#load source file\n",
    "users = pd.read_csv(file,\n",
    "                        encoding=\"utf-8-sig\",\n",
    "                       sep=\";\",\n",
    "                       usecols =['KEY','ID','AUTHOR_NAME','AUTHOR_DISPLAY_NAME','ACTIVE','TIME_ZONE','DATE_CREATED',\n",
    "                                 'FIELD','OLD_VALUE','NEW_VALUE','OLD_NUM','NEW_NUM'])\n",
    "#KEY;AUTHOR_NAME;AUTHOR_DISPLAY_NAME;ACTIVE;TIME_ZONE;DATE_CREATED;FIELD;OLD_VALUE;NEW_VALUE;OLD_NUM;NEW_NUM"
   ]
  },
  {
   "cell_type": "code",
   "execution_count": 4,
   "metadata": {},
   "outputs": [],
   "source": [
    "#adding end_dates column to source data frame. end dates are nothing but start_dates shifted on 1 value \n",
    "# since each new line has start date which is end date for previous status\n",
    "end_dates = users['DATE_CREATED'].tolist();\n",
    "end_dates.pop(0)\n",
    "end_dates.append('null')\n",
    "users = users.assign(END_DATES = pd.Series(end_dates))\n",
    "#print(users.groupby('KEY').tail(2))\n"
   ]
  },
  {
   "cell_type": "code",
   "execution_count": 5,
   "metadata": {},
   "outputs": [],
   "source": [
    "#set last end_date for each story as a last update date of the story\n",
    "oldvalue = users.iloc[0]\n",
    "for index, row in users.iterrows():\n",
    "    if oldvalue.KEY != row.KEY :\n",
    "        #print(index,row)\n",
    "        users.loc[users.index[index-1],'END_DATES'] = users.loc[users.index[index-1],'DATE_CREATED']  \n",
    "    oldvalue=row\n",
    "users.loc[users.index[len(users)-1],'END_DATES'] = users.loc[users.index[len(users)-1],'DATE_CREATED']    "
   ]
  },
  {
   "cell_type": "code",
   "execution_count": 6,
   "metadata": {},
   "outputs": [],
   "source": [
    "#add time difference in hours\n",
    "#time_diff_e = users_extended['END_DATES']\n",
    "time = users[['DATE_CREATED','END_DATES']].apply(lambda x: datetime.strptime(x['END_DATES'],'%d.%m.%Y %H:%M:%S') \n",
    "                                                 - datetime.strptime(x['DATE_CREATED'],'%d.%m.%Y %H:%M:%S'), axis=1)\n",
    "time_h = [round(a.total_seconds()/3600) for a in time]\n",
    "users = users.assign(DURATION = pd.Series(time_h))"
   ]
  },
  {
   "cell_type": "code",
   "execution_count": 7,
   "metadata": {},
   "outputs": [],
   "source": [
    "#prepare data set for status analyses\n",
    "grouped_list = users[users['FIELD'] == 'status'].groupby(['OLD_VALUE'])[['DURATION']].sum().\\\n",
    "    reset_index().sort_values(by=['DURATION'])\n",
    "grouped_list = grouped_list[(grouped_list.OLD_VALUE != 'Rejected')\\\n",
    "                            & (grouped_list.OLD_VALUE != 'Done') \\\n",
    "                            & (grouped_list.OLD_VALUE != 'Sub-task Done')\\\n",
    "                            & (grouped_list.OLD_VALUE != 'IDEA - TO DO')\\\n",
    "                            & (grouped_list.OLD_VALUE != 'Sub-task To Be Refined')\\\n",
    "                            & (grouped_list.OLD_VALUE != 'In Refine')\\\n",
    "                            & (grouped_list.OLD_VALUE != 'To Be Refined')\\\n",
    "                            & (grouped_list.OLD_VALUE != 'In Progress')]"
   ]
  },
  {
   "cell_type": "code",
   "execution_count": 8,
   "metadata": {},
   "outputs": [
    {
     "data": {
      "text/plain": [
       "Text(0.5,1,'Total time in status (h)')"
      ]
     },
     "execution_count": 8,
     "metadata": {},
     "output_type": "execute_result"
    },
    {
     "data": {
      "image/png": "[encoded data removed]",
      "text/plain": [
       "<matplotlib.figure.Figure at 0x1b07cbf0908>"
      ]
     },
     "metadata": {},
     "output_type": "display_data"
    }
   ],
   "source": [
    "# pie()\n",
    "plt.pie(grouped_list.DURATION, labels=grouped_list.OLD_VALUE,shadow=True,labeldistance=1.2,\n",
    "        autopct='%1.1f%%'  )\n",
    "plt.title('Total time in status (h)')"
   ]
  },
  {
   "cell_type": "code",
   "execution_count": 9,
   "metadata": {},
   "outputs": [],
   "source": [
    "#prepare data set for users analyses\n",
    "grouped_users = users[users['FIELD'] == 'status'].groupby(['OLD_VALUE','AUTHOR_NAME','AUTHOR_DISPLAY_NAME',])[['DURATION']].sum().\\\n",
    "    reset_index().sort_values(by=['AUTHOR_NAME'])\n",
    "\n",
    "grouped_users = grouped_users[(grouped_users.OLD_VALUE != 'Rejected')\\\n",
    "                            & (grouped_users.OLD_VALUE != 'Done') \\\n",
    "                            & (grouped_users.OLD_VALUE != 'Sub-task Done')\\\n",
    "                            & (grouped_users.OLD_VALUE != 'IDEA - TO DO')\\\n",
    "                            & (grouped_users.OLD_VALUE != 'Sub-task To Be Refined')\\\n",
    "                            & (grouped_users.OLD_VALUE != 'In Refine')\\\n",
    "                            & (grouped_users.OLD_VALUE != 'To Be Refined')\\\n",
    "                            & (grouped_users.OLD_VALUE != 'In Progress')\\\n",
    "                            & (grouped_users.DURATION >= 0)]\n",
    "\n"
   ]
  },
  {
   "cell_type": "code",
   "execution_count": 10,
   "metadata": {},
   "outputs": [],
   "source": [
    "usernames = grouped_users['AUTHOR_NAME'].unique()\n",
    "statuses = grouped_users['OLD_VALUE'].sort_values().unique()\n",
    "number_of_statuses = len(statuses)\n",
    "temp_df = pd.DataFrame(columns=list(grouped_users.columns.values))\n",
    "# print(statuses)\n",
    "for user in usernames:\n",
    "    user_list = grouped_users[grouped_users['AUTHOR_NAME'] == user]\n",
    "    #skip processing for users with full variety of statuses\n",
    "    if len(user_list) == number_of_statuses: continue\n",
    "    user_statuses = user_list['OLD_VALUE'].unique()\n",
    "    for new_status in list(set(statuses) - set(user_statuses)):\n",
    "        missing_status_lst =  user_list.iloc[0].tolist()\n",
    "        missing_status_lst[0] = new_status\n",
    "        missing_status_lst[len(missing_status_lst)-1] = 0.0\n",
    "        temp_df.loc[len(temp_df)] = missing_status_lst\n",
    "gu_all_statuses = grouped_users.append(temp_df).sort_values(by=['OLD_VALUE','AUTHOR_NAME'], \n",
    "                                                                       ascending=[\"False\", \"False\"]).reset_index()\n",
    "# for user in gu_all_statuses['AUTHOR_NAME'].unique():\n",
    "#     print( gu_all_statuses[gu_all_statuses['AUTHOR_NAME'] == user])\n",
    "#.sort_values(by=[\"ID\", \"Date\"], ascending=[\"False\", \"False\"])"
   ]
  },
  {
   "cell_type": "code",
   "execution_count": 12,
   "metadata": {},
   "outputs": [
    {
     "ename": "NameError",
     "evalue": "name 'statusest' is not defined",
     "output_type": "error",
     "traceback": [
      "\u001b[1;31m---------------------------------------------------------------------------\u001b[0m",
      "\u001b[1;31mNameError\u001b[0m                                 Traceback (most recent call last)",
      "\u001b[1;32m<ipython-input-12-8051d5e52827>\u001b[0m in \u001b[0;36m<module>\u001b[1;34m()\u001b[0m\n\u001b[0;32m      3\u001b[0m \u001b[0msource_data\u001b[0m \u001b[1;33m=\u001b[0m \u001b[1;33m{\u001b[0m\u001b[1;33m}\u001b[0m\u001b[1;33m\u001b[0m\u001b[0m\n\u001b[0;32m      4\u001b[0m \u001b[0mplt\u001b[0m\u001b[1;33m.\u001b[0m\u001b[0mfigure\u001b[0m\u001b[1;33m(\u001b[0m\u001b[0mfigsize\u001b[0m\u001b[1;33m=\u001b[0m\u001b[1;33m(\u001b[0m\u001b[1;36m10\u001b[0m\u001b[1;33m,\u001b[0m\u001b[1;36m20\u001b[0m\u001b[1;33m)\u001b[0m\u001b[1;33m,\u001b[0m \u001b[0mdpi\u001b[0m\u001b[1;33m=\u001b[0m\u001b[1;36m80\u001b[0m\u001b[1;33m)\u001b[0m\u001b[1;33m\u001b[0m\u001b[0m\n\u001b[1;32m----> 5\u001b[1;33m \u001b[1;32mfor\u001b[0m \u001b[0mstatus\u001b[0m \u001b[1;32min\u001b[0m \u001b[0mstatusest\u001b[0m\u001b[1;33m:\u001b[0m\u001b[1;33m\u001b[0m\u001b[0m\n\u001b[0m\u001b[0;32m      6\u001b[0m     \u001b[0msource_data\u001b[0m\u001b[1;33m[\u001b[0m\u001b[0mstatus\u001b[0m\u001b[1;33m]\u001b[0m \u001b[1;33m=\u001b[0m \u001b[0mlist\u001b[0m\u001b[1;33m(\u001b[0m\u001b[0mgu_all_statuses\u001b[0m\u001b[1;33m[\u001b[0m\u001b[0mgu_all_statuses\u001b[0m\u001b[1;33m[\u001b[0m\u001b[1;34m'OLD_VALUE'\u001b[0m\u001b[1;33m]\u001b[0m\u001b[1;33m==\u001b[0m\u001b[0mstatus\u001b[0m\u001b[1;33m]\u001b[0m\u001b[1;33m[\u001b[0m\u001b[1;34m'DURATION'\u001b[0m\u001b[1;33m]\u001b[0m\u001b[1;33m)\u001b[0m\u001b[1;33m\u001b[0m\u001b[0m\n\u001b[0;32m      7\u001b[0m \u001b[0mind\u001b[0m \u001b[1;33m=\u001b[0m \u001b[0mnp\u001b[0m\u001b[1;33m.\u001b[0m\u001b[0marange\u001b[0m\u001b[1;33m(\u001b[0m\u001b[0mlen\u001b[0m\u001b[1;33m(\u001b[0m\u001b[0musernames\u001b[0m\u001b[1;33m)\u001b[0m\u001b[1;33m)\u001b[0m\u001b[1;33m\u001b[0m\u001b[0m\n",
      "\u001b[1;31mNameError\u001b[0m: name 'statusest' is not defined"
     ]
    },
    {
     "data": {
      "text/plain": [
       "<matplotlib.figure.Figure at 0x1b07ce42b00>"
      ]
     },
     "metadata": {},
     "output_type": "display_data"
    }
   ],
   "source": [
    "usernames = gu_all_statuses['AUTHOR_DISPLAY_NAME'].unique()\n",
    "statuses = gu_all_statuses['OLD_VALUE'].unique()\n",
    "source_data = {}\n",
    "plt.figure(figsize=(10,20), dpi=80)\n",
    "for status in statuses:\n",
    "    source_data[status] = list(gu_all_statuses[gu_all_statuses['OLD_VALUE']==status]['DURATION'])\n",
    "ind = np.arange(len(usernames))\n",
    "sum_total = [0 for _ in range(len(usernames))]\n",
    "for key, value in source_data.items():\n",
    "    in_color='#%02x%02x%02x' % (rd.randint(0, 255), rd.randint(0, 255), rd.randint(0, 255))\n",
    "    plt.barh(ind, value, 0.5, color = in_color, left = sum_total)\n",
    "    sum_total = [x + y for x, y in zip(sum_total, value)]\n",
    "plt.yticks(ind, usernames)\n",
    "plt.xlabel('Time(h)')\n",
    "plt.title('Users time spent by statuses')\n",
    "plt.show()"
   ]
  },
  {
   "cell_type": "code",
   "execution_count": null,
   "metadata": {},
   "outputs": [],
   "source": []
  },
  {
   "cell_type": "code",
   "execution_count": null,
   "metadata": {},
   "outputs": [],
   "source": []
  }
 ],
 "metadata": {
  "kernelspec": {
   "display_name": "Python 3",
   "language": "python",
   "name": "python3"
  },
  "language_info": {
   "codemirror_mode": {
    "name": "ipython",
    "version": 3
   },
   "file_extension": ".py",
   "mimetype": "text/x-python",
   "name": "python",
   "nbconvert_exporter": "python",
   "pygments_lexer": "ipython3",
   "version": "3.6.4"
  }
 },
 "nbformat": 4,
 "nbformat_minor": 2
}
