{
 "cells": [
  {
   "cell_type": "code",
   "execution_count": 1,
   "metadata": {},
   "outputs": [],
   "source": [
    "from datetime import datetime\n",
    "import pandas as pd\n",
    "import numpy as np\n",
    "import matplotlib.pyplot as plt\n",
    "%matplotlib inline"
   ]
  },
  {
   "cell_type": "code",
   "execution_count": 2,
   "metadata": {},
   "outputs": [],
   "source": [
    "file = 'D:\\work\\Jira_analyses\\out_csv.csv'"
   ]
  },
  {
   "cell_type": "code",
   "execution_count": 3,
   "metadata": {},
   "outputs": [],
   "source": [
    "#load source file\n",
    "users = pd.read_csv(file,\n",
    "                        encoding=\"utf-8-sig\",\n",
    "                       sep=\";\",\n",
    "                       usecols =['KEY','AUTHOR_NAME','DATE_CREATED','OLD_VALUE','NEW_VALUE'])"
   ]
  },
  {
   "cell_type": "code",
   "execution_count": 4,
   "metadata": {},
   "outputs": [],
   "source": [
    "#adding end_dates column to source data frame. end dates are nothing but start_dates shifted on 1 value \n",
    "# since each new line has start date which is end date for previous status\n",
    "end_dates = users['DATE_CREATED'].tolist();\n",
    "end_dates.pop(0)\n",
    "end_dates.append('null')\n",
    "users = users.assign(END_DATES = pd.Series(end_dates))\n",
    "#print(users.groupby('KEY').tail(2))"
   ]
  },
  {
   "cell_type": "code",
   "execution_count": 5,
   "metadata": {},
   "outputs": [],
   "source": [
    "#set last end_date for each story as a last update date of the story\n",
    "oldvalue = users.iloc[0]\n",
    "for index, row in users.iterrows():\n",
    "    if oldvalue.KEY != row.KEY :\n",
    "        users.loc[users.index[index-1],'END_DATES'] = users.loc[users.index[index-1],'DATE_CREATED']  \n",
    "    oldvalue=row\n",
    "users.loc[users.index[len(users)-1],'END_DATES'] = users.loc[users.index[len(users)-1],'DATE_CREATED']    "
   ]
  },
  {
   "cell_type": "code",
   "execution_count": 6,
   "metadata": {},
   "outputs": [],
   "source": [
    "#add time difference in hours\n",
    "time_diff = users['END_DATES']\n",
    "time = users[['DATE_CREATED','END_DATES']].apply(lambda x: datetime.strptime(x['END_DATES'],'%d.%m.%Y %H:%M:%S') - datetime.strptime(x['DATE_CREATED'],'%d.%m.%Y %H:%M:%S'), axis=1)\n",
    "time_h = [a.total_seconds()/3600 for a in time]\n",
    "users = users.assign(DURATION = pd.Series(time_h))"
   ]
  },
  {
   "cell_type": "code",
   "execution_count": 53,
   "metadata": {},
   "outputs": [],
   "source": [
    "grouped_list = users.groupby(['OLD_VALUE'])[['DURATION']].sum().reset_index().sort_values(by=['DURATION'])\n",
    "grouped_list = grouped_list[(grouped_list.OLD_VALUE != 'Rejected')\\\n",
    "                            & (grouped_list.OLD_VALUE != 'Done') \\\n",
    "                            & (grouped_list.OLD_VALUE != 'Sub-task Done')\\\n",
    "                            & (grouped_list.OLD_VALUE != 'IDEA - TO DO')\\\n",
    "                            & (grouped_list.OLD_VALUE != 'Sub-task To Be Refined')\\\n",
    "                            & (grouped_list.OLD_VALUE != 'In Refine')\\\n",
    "                            & (grouped_list.OLD_VALUE != 'To Be Refined')\\\n",
    "                            & (grouped_list.OLD_VALUE != 'In Progress')]"
   ]
  },
  {
   "cell_type": "code",
   "execution_count": 54,
   "metadata": {},
   "outputs": [
    {
     "data": {
      "text/plain": [
       "Text(0.5,1,'Total time in status (h)')"
      ]
     },
     "execution_count": 54,
     "metadata": {},
     "output_type": "execute_result"
    },
    {
     "data": {
      "image/png": "[encoded data removed]",
      "text/plain": [
       "<matplotlib.figure.Figure at 0x1e8d290fe80>"
      ]
     },
     "metadata": {},
     "output_type": "display_data"
    }
   ],
   "source": [
    "# pie()\n",
    "plt.pie(grouped_list.DURATION, labels=grouped_list.OLD_VALUE,shadow=True,labeldistance=1.2)\n",
    "#plt.pie()\n",
    "plt.title('Total time in status (h)')"
   ]
  },
  {
   "cell_type": "code",
   "execution_count": null,
   "metadata": {},
   "outputs": [],
   "source": []
  },
  {
   "cell_type": "code",
   "execution_count": null,
   "metadata": {},
   "outputs": [],
   "source": []
  }
 ],
 "metadata": {
  "kernelspec": {
   "display_name": "Python 3",
   "language": "python",
   "name": "python3"
  },
  "language_info": {
   "codemirror_mode": {
    "name": "ipython",
    "version": 3
   },
   "file_extension": ".py",
   "mimetype": "text/x-python",
   "name": "python",
   "nbconvert_exporter": "python",
   "pygments_lexer": "ipython3",
   "version": "3.6.4"
  }
 },
 "nbformat": 4,
 "nbformat_minor": 2
}
