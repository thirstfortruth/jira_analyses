{
 "cells": [
  {
   "cell_type": "code",
   "execution_count": 1,
   "metadata": {},
   "outputs": [],
   "source": [
    "from datetime import datetime\n",
    "import pandas as pd\n",
    "import numpy as np\n",
    "import matplotlib.pyplot as plt\n",
    "import plotly.plotly as py\n",
    "import plotly.tools as tls\n",
    "%matplotlib inline"
   ]
  },
  {
   "cell_type": "code",
   "execution_count": 2,
   "metadata": {},
   "outputs": [],
   "source": [
    "#file = 'D:\\work\\Jira_analyses\\out_csv.csv'\n",
    "file_extended = 'E:\\work\\my tasks\\Jira_analyses\\out_csv1.csv'\n",
    "file = 'E:\\work\\my tasks\\Jira_analyses\\out_csv.csv'"
   ]
  },
  {
   "cell_type": "code",
   "execution_count": 3,
   "metadata": {},
   "outputs": [],
   "source": [
    "#load source file\n",
    "users = pd.read_csv(file_extended,\n",
    "                        encoding=\"utf-8-sig\",\n",
    "                       sep=\";\",\n",
    "                       usecols =['KEY','ID','AUTHOR_NAME','AUTHOR_DISPLAY_NAME','ACTIVE','TIME_ZONE','DATE_CREATED',\n",
    "                                 'FIELD','OLD_VALUE','NEW_VALUE','OLD_NUM','NEW_NUM'])\n",
    "#KEY;AUTHOR_NAME;AUTHOR_DISPLAY_NAME;ACTIVE;TIME_ZONE;DATE_CREATED;FIELD;OLD_VALUE;NEW_VALUE;OLD_NUM;NEW_NUM"
   ]
  },
  {
   "cell_type": "code",
   "execution_count": 4,
   "metadata": {},
   "outputs": [],
   "source": [
    "#adding end_dates column to source data frame. end dates are nothing but start_dates shifted on 1 value \n",
    "# since each new line has start date which is end date for previous status\n",
    "end_dates = users['DATE_CREATED'].tolist();\n",
    "end_dates.pop(0)\n",
    "end_dates.append('null')\n",
    "users = users.assign(END_DATES = pd.Series(end_dates))\n",
    "#print(users.groupby('KEY').tail(2))\n"
   ]
  },
  {
   "cell_type": "code",
   "execution_count": 5,
   "metadata": {},
   "outputs": [],
   "source": [
    "#set last end_date for each story as a last update date of the story\n",
    "oldvalue = users.iloc[0]\n",
    "for index, row in users.iterrows():\n",
    "    if oldvalue.KEY != row.KEY :\n",
    "        #print(index,row)\n",
    "        users.loc[users.index[index-1],'END_DATES'] = users.loc[users.index[index-1],'DATE_CREATED']  \n",
    "    oldvalue=row\n",
    "users.loc[users.index[len(users)-1],'END_DATES'] = users.loc[users.index[len(users)-1],'DATE_CREATED']    "
   ]
  },
  {
   "cell_type": "code",
   "execution_count": 6,
   "metadata": {},
   "outputs": [],
   "source": [
    "#add time difference in hours\n",
    "#time_diff_e = users_extended['END_DATES']\n",
    "time = users[['DATE_CREATED','END_DATES']].apply(lambda x: datetime.strptime(x['END_DATES'],'%d.%m.%Y %H:%M:%S') \n",
    "                                                 - datetime.strptime(x['DATE_CREATED'],'%d.%m.%Y %H:%M:%S'), axis=1)\n",
    "time_h = [a.total_seconds()/3600 for a in time]\n",
    "users = users.assign(DURATION = pd.Series(time_h))"
   ]
  },
  {
   "cell_type": "code",
   "execution_count": 7,
   "metadata": {},
   "outputs": [],
   "source": [
    "#prepare data set for status analyses\n",
    "grouped_list = users[users['FIELD'] == 'status'].groupby(['OLD_VALUE'])[['DURATION']].sum().\\\n",
    "    reset_index().sort_values(by=['DURATION'])\n",
    "grouped_list = grouped_list[(grouped_list.OLD_VALUE != 'Rejected')\\\n",
    "                            & (grouped_list.OLD_VALUE != 'Done') \\\n",
    "                            & (grouped_list.OLD_VALUE != 'Sub-task Done')\\\n",
    "                            & (grouped_list.OLD_VALUE != 'IDEA - TO DO')\\\n",
    "                            & (grouped_list.OLD_VALUE != 'Sub-task To Be Refined')\\\n",
    "                            & (grouped_list.OLD_VALUE != 'In Refine')\\\n",
    "                            & (grouped_list.OLD_VALUE != 'To Be Refined')\\\n",
    "                            & (grouped_list.OLD_VALUE != 'In Progress')]"
   ]
  },
  {
   "cell_type": "code",
   "execution_count": 8,
   "metadata": {},
   "outputs": [
    {
     "data": {
      "text/plain": [
       "Text(0.5,1,'Total time in status (h)')"
      ]
     },
     "execution_count": 8,
     "metadata": {},
     "output_type": "execute_result"
    },
    {
     "data": {
      "image/png": "[encoded data removed]",
      "text/plain": [
       "<matplotlib.figure.Figure at 0xea2be2dcc0>"
      ]
     },
     "metadata": {},
     "output_type": "display_data"
    }
   ],
   "source": [
    "# pie()\n",
    "plt.pie(grouped_list.DURATION, labels=grouped_list.OLD_VALUE,shadow=True,labeldistance=1.2,\n",
    "        autopct='%1.1f%%'  )\n",
    "plt.title('Total time in status (h)')"
   ]
  },
  {
   "cell_type": "code",
   "execution_count": 34,
   "metadata": {},
   "outputs": [
    {
     "name": "stdout",
     "output_type": "stream",
     "text": [
      "['Ghoshal, Indranil [X]' 'Palatnikov, Vladimir' 'Mokhov, Denis'\n",
      " 'Ramachandran, Ramya' 'Nemtinov, Nikita' 'Orlov, Konstantin'\n",
      " 'Suzdal, Dmitry' 'Toporkov, Oleg' 'Gurenko, Natalia' 'Bogdanov, Denis'\n",
      " 'Kuzmin, Dmitry' 'Narayanaswamy, Deepika' 'Koti, Harish C'\n",
      " 'Danekina, Valeria' 'Pilyushenko, Ivan' 'Abramkin, Eugene [X]'\n",
      " 'Raghunath Revankar, Rupali' 'Issac, Robin' 'Kritsky, Andrey'\n",
      " 'Petrov, Alexander' 'Allen, Richard A' 'McGarrigle, Damien']\n"
     ]
    }
   ],
   "source": [
    "#prepare data set for users analyses\n",
    "grouped_list = users[users['FIELD'] == 'status'].groupby(['OLD_VALUE','AUTHOR_NAME','AUTHOR_DISPLAY_NAME',])[['DURATION']].sum().\\\n",
    "    reset_index().sort_values(by=['AUTHOR_NAME'])\n",
    "\n",
    "grouped_list = grouped_list[(grouped_list.OLD_VALUE != 'Rejected')\\\n",
    "                            & (grouped_list.OLD_VALUE != 'Done') \\\n",
    "                            & (grouped_list.OLD_VALUE != 'Sub-task Done')\\\n",
    "                            & (grouped_list.OLD_VALUE != 'IDEA - TO DO')\\\n",
    "                            & (grouped_list.OLD_VALUE != 'Sub-task To Be Refined')\\\n",
    "                            & (grouped_list.OLD_VALUE != 'In Refine')\\\n",
    "                            & (grouped_list.OLD_VALUE != 'To Be Refined')\\\n",
    "                            & (grouped_list.OLD_VALUE != 'In Progress')\\\n",
    "                            & (grouped_list.DURATION >= 0)]\n",
    "\n",
    "\n"
   ]
  },
  {
   "cell_type": "code",
   "execution_count": null,
   "metadata": {},
   "outputs": [],
   "source": [
    "usernames = grouped_list['AUTHOR_DISPLAY_NAME'].unique()\n"
   ]
  }
 ],
 "metadata": {
  "kernelspec": {
   "display_name": "Python 3",
   "language": "python",
   "name": "python3"
  },
  "language_info": {
   "codemirror_mode": {
    "name": "ipython",
    "version": 3
   },
   "file_extension": ".py",
   "mimetype": "text/x-python",
   "name": "python",
   "nbconvert_exporter": "python",
   "pygments_lexer": "ipython3",
   "version": "3.6.4"
  }
 },
 "nbformat": 4,
 "nbformat_minor": 2
}
