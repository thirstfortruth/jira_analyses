{
 "cells": [
  {
   "cell_type": "code",
   "execution_count": 1,
   "metadata": {},
   "outputs": [],
   "source": [
    "from datetime import datetime\n",
    "import random as rd\n",
    "import pandas as pd\n",
    "import numpy as np\n",
    "import matplotlib.pyplot as plt\n",
    "%matplotlib inline"
   ]
  },
  {
   "cell_type": "code",
   "execution_count": 2,
   "metadata": {},
   "outputs": [],
   "source": [
    "FILE = 'D:\\work\\Jira_analyses\\out_new_csv.csv'\n",
    "SAVE_FILE = 'D:\\work\\Jira_analyses\\saved_new_csv.csv'"
   ]
  },
  {
   "cell_type": "code",
   "execution_count": 3,
   "metadata": {},
   "outputs": [],
   "source": [
    "users = pd.read_csv(FILE,\n",
    "                        encoding=\"utf-8-sig\",\n",
    "                       sep=\";\")"
   ]
  },
  {
   "cell_type": "code",
   "execution_count": 4,
   "metadata": {},
   "outputs": [
    {
     "ename": "NameError",
     "evalue": "name 'grouped_list' is not defined",
     "output_type": "error",
     "traceback": [
      "\u001b[1;31m---------------------------------------------------------------------------\u001b[0m",
      "\u001b[1;31mNameError\u001b[0m                                 Traceback (most recent call last)",
      "\u001b[1;32m<ipython-input-4-7dfdd51e2543>\u001b[0m in \u001b[0;36m<module>\u001b[1;34m()\u001b[0m\n\u001b[0;32m      1\u001b[0m \u001b[1;31m#prepare data set for status analyses\u001b[0m\u001b[1;33m\u001b[0m\u001b[1;33m\u001b[0m\u001b[0m\n\u001b[0;32m      2\u001b[0m \u001b[0mgrouped_lists\u001b[0m \u001b[1;33m=\u001b[0m \u001b[0musers\u001b[0m\u001b[1;33m[\u001b[0m\u001b[0musers\u001b[0m\u001b[1;33m[\u001b[0m\u001b[1;34m'FIELD'\u001b[0m\u001b[1;33m]\u001b[0m \u001b[1;33m==\u001b[0m \u001b[1;34m'status'\u001b[0m\u001b[1;33m]\u001b[0m\u001b[1;33m.\u001b[0m\u001b[0mgroupby\u001b[0m\u001b[1;33m(\u001b[0m\u001b[1;33m[\u001b[0m\u001b[1;34m'OLD_VALUE'\u001b[0m\u001b[1;33m]\u001b[0m\u001b[1;33m)\u001b[0m\u001b[1;33m[\u001b[0m\u001b[1;33m[\u001b[0m\u001b[1;34m'DURATION'\u001b[0m\u001b[1;33m]\u001b[0m\u001b[1;33m]\u001b[0m\u001b[1;33m.\u001b[0m\u001b[0msum\u001b[0m\u001b[1;33m(\u001b[0m\u001b[1;33m)\u001b[0m\u001b[1;33m.\u001b[0m    \u001b[0mreset_index\u001b[0m\u001b[1;33m(\u001b[0m\u001b[1;33m)\u001b[0m\u001b[1;33m.\u001b[0m\u001b[0msort_values\u001b[0m\u001b[1;33m(\u001b[0m\u001b[0mby\u001b[0m\u001b[1;33m=\u001b[0m\u001b[1;33m[\u001b[0m\u001b[1;34m'DURATION'\u001b[0m\u001b[1;33m]\u001b[0m\u001b[1;33m)\u001b[0m\u001b[1;33m\u001b[0m\u001b[0m\n\u001b[1;32m----> 3\u001b[1;33m \u001b[0mgrouped_list\u001b[0m \u001b[1;33m=\u001b[0m \u001b[0mgrouped_list\u001b[0m\u001b[1;33m[\u001b[0m\u001b[1;33m(\u001b[0m\u001b[0mgrouped_list\u001b[0m\u001b[1;33m.\u001b[0m\u001b[0mOLD_VALUE\u001b[0m \u001b[1;33m!=\u001b[0m \u001b[1;34m'Rejected'\u001b[0m\u001b[1;33m)\u001b[0m                            \u001b[1;33m&\u001b[0m \u001b[1;33m(\u001b[0m\u001b[0mgrouped_list\u001b[0m\u001b[1;33m.\u001b[0m\u001b[0mOLD_VALUE\u001b[0m \u001b[1;33m!=\u001b[0m \u001b[1;34m'Done'\u001b[0m\u001b[1;33m)\u001b[0m                             \u001b[1;33m&\u001b[0m \u001b[1;33m(\u001b[0m\u001b[0mgrouped_list\u001b[0m\u001b[1;33m.\u001b[0m\u001b[0mOLD_VALUE\u001b[0m \u001b[1;33m!=\u001b[0m \u001b[1;34m'Sub-task Done'\u001b[0m\u001b[1;33m)\u001b[0m                            \u001b[1;33m&\u001b[0m \u001b[1;33m(\u001b[0m\u001b[0mgrouped_list\u001b[0m\u001b[1;33m.\u001b[0m\u001b[0mOLD_VALUE\u001b[0m \u001b[1;33m!=\u001b[0m \u001b[1;34m'IDEA - TO DO'\u001b[0m\u001b[1;33m)\u001b[0m                            \u001b[1;33m&\u001b[0m \u001b[1;33m(\u001b[0m\u001b[0mgrouped_list\u001b[0m\u001b[1;33m.\u001b[0m\u001b[0mOLD_VALUE\u001b[0m \u001b[1;33m!=\u001b[0m \u001b[1;34m'Sub-task To Be Refined'\u001b[0m\u001b[1;33m)\u001b[0m                            \u001b[1;33m&\u001b[0m \u001b[1;33m(\u001b[0m\u001b[0mgrouped_list\u001b[0m\u001b[1;33m.\u001b[0m\u001b[0mOLD_VALUE\u001b[0m \u001b[1;33m!=\u001b[0m \u001b[1;34m'In Refine'\u001b[0m\u001b[1;33m)\u001b[0m                            \u001b[1;33m&\u001b[0m \u001b[1;33m(\u001b[0m\u001b[0mgrouped_list\u001b[0m\u001b[1;33m.\u001b[0m\u001b[0mOLD_VALUE\u001b[0m \u001b[1;33m!=\u001b[0m \u001b[1;34m'To Be Refined'\u001b[0m\u001b[1;33m)\u001b[0m                            \u001b[1;33m&\u001b[0m \u001b[1;33m(\u001b[0m\u001b[0mgrouped_list\u001b[0m\u001b[1;33m.\u001b[0m\u001b[0mOLD_VALUE\u001b[0m \u001b[1;33m!=\u001b[0m \u001b[1;34m'In Progress'\u001b[0m\u001b[1;33m)\u001b[0m\u001b[1;33m]\u001b[0m\u001b[1;33m\u001b[0m\u001b[0m\n\u001b[0m",
      "\u001b[1;31mNameError\u001b[0m: name 'grouped_list' is not defined"
     ]
    }
   ],
   "source": [
    "#prepare data set for status analyses\n",
    "grouped_list = users[users['FIELD'] == 'status'].groupby(['OLD_VALUE'])[['DURATION']].sum().\\\n",
    "    reset_index().sort_values(by=['DURATION'])\n",
    "grouped_list = grouped_list[(grouped_list.OLD_VALUE != 'Rejected')\\\n",
    "                            & (grouped_list.OLD_VALUE != 'Done') \\\n",
    "                            & (grouped_list.OLD_VALUE != 'Sub-task Done')\\\n",
    "                            & (grouped_list.OLD_VALUE != 'IDEA - TO DO')\\\n",
    "                            & (grouped_list.OLD_VALUE != 'Sub-task To Be Refined')\\\n",
    "                            & (grouped_list.OLD_VALUE != 'In Refine')\\\n",
    "                            & (grouped_list.OLD_VALUE != 'To Be Refined')\\\n",
    "                            & (grouped_list.OLD_VALUE != 'In Progress')]"
   ]
  },
  {
   "cell_type": "code",
   "execution_count": 5,
   "metadata": {},
   "outputs": [
    {
     "ename": "NameError",
     "evalue": "name 'grouped_list' is not defined",
     "output_type": "error",
     "traceback": [
      "\u001b[1;31m---------------------------------------------------------------------------\u001b[0m",
      "\u001b[1;31mNameError\u001b[0m                                 Traceback (most recent call last)",
      "\u001b[1;32m<ipython-input-5-d9f367132256>\u001b[0m in \u001b[0;36m<module>\u001b[1;34m()\u001b[0m\n\u001b[0;32m      1\u001b[0m \u001b[1;31m# pie()\u001b[0m\u001b[1;33m\u001b[0m\u001b[1;33m\u001b[0m\u001b[0m\n\u001b[1;32m----> 2\u001b[1;33m plt.pie(grouped_list.DURATION, labels=grouped_list.OLD_VALUE,shadow=True,labeldistance=1.2,\n\u001b[0m\u001b[0;32m      3\u001b[0m         autopct='%1.1f%%'  )\n\u001b[0;32m      4\u001b[0m \u001b[0mplt\u001b[0m\u001b[1;33m.\u001b[0m\u001b[0mtitle\u001b[0m\u001b[1;33m(\u001b[0m\u001b[1;34m'Total time in status (h)'\u001b[0m\u001b[1;33m)\u001b[0m\u001b[1;33m\u001b[0m\u001b[0m\n",
      "\u001b[1;31mNameError\u001b[0m: name 'grouped_list' is not defined"
     ]
    }
   ],
   "source": [
    "# pie()\n",
    "plt.pie(grouped_list.DURATION, labels=grouped_list.OLD_VALUE,shadow=True,labeldistance=1.2,\n",
    "        autopct='%1.1f%%'  )\n",
    "plt.title('Total time in status (h)')"
   ]
  },
  {
   "cell_type": "code",
   "execution_count": 6,
   "metadata": {},
   "outputs": [],
   "source": [
    "#prepare data set for users analyses\n",
    "grouped_users = users[users['FIELD'] == 'status'].groupby(['OLD_VALUE','AUTHOR_NAME','AUTHOR_DISPLAY_NAME',])[['DURATION']].sum().\\\n",
    "    reset_index().sort_values(by=['AUTHOR_NAME'])\n",
    "\n",
    "grouped_users = grouped_users[(grouped_users.OLD_VALUE != 'Rejected')\\\n",
    "                            & (grouped_users.OLD_VALUE != 'Done') \\\n",
    "                            & (grouped_users.OLD_VALUE != 'Sub-task Done')\\\n",
    "                            & (grouped_users.OLD_VALUE != 'IDEA - TO DO')\\\n",
    "                            & (grouped_users.OLD_VALUE != 'Sub-task To Be Refined')\\\n",
    "                            & (grouped_users.OLD_VALUE != 'In Refine')\\\n",
    "                            & (grouped_users.OLD_VALUE != 'To Be Refined')\\\n",
    "                            & (grouped_users.OLD_VALUE != 'In Progress')\\\n",
    "                            & (grouped_users.DURATION > 0)]"
   ]
  },
  {
   "cell_type": "code",
   "execution_count": 7,
   "metadata": {},
   "outputs": [],
   "source": [
    "usernames = grouped_users['AUTHOR_NAME'].unique()\n",
    "statuses = grouped_users['OLD_VALUE'].sort_values().unique()\n",
    "number_of_statuses = len(statuses)\n",
    "# grouped_users = grouped_users[grouped_users == 'RMSODS-4179']\n",
    "temp_df = pd.DataFrame(columns=list(grouped_users.columns.values))\n",
    "# print(statuses)\n",
    "for user in usernames:\n",
    "    user_list = grouped_users[grouped_users['AUTHOR_NAME'] == user]\n",
    "    #skip processing for users with full variety of statuses\n",
    "    if len(user_list) == number_of_statuses: continue\n",
    "    user_statuses = user_list['OLD_VALUE'].unique()\n",
    "    for new_status in list(set(statuses) - set(user_statuses)):\n",
    "        missing_status_lst =  user_list.iloc[0].tolist()\n",
    "        missing_status_lst[0] = new_status\n",
    "        missing_status_lst[len(missing_status_lst)-1] = 0.0\n",
    "        temp_df.loc[len(temp_df)] = missing_status_lst\n",
    "gu_all_statuses = grouped_users.append(temp_df).sort_values(by=['OLD_VALUE','AUTHOR_NAME'], \n",
    "                                                                       ascending=[\"False\", \"False\"]).reset_index()\n",
    "#print(gu_all_statuses)"
   ]
  },
  {
   "cell_type": "code",
   "execution_count": 8,
   "metadata": {},
   "outputs": [
    {
     "ename": "NameError",
     "evalue": "name 'statusess' is not defined",
     "output_type": "error",
     "traceback": [
      "\u001b[1;31m---------------------------------------------------------------------------\u001b[0m",
      "\u001b[1;31mNameError\u001b[0m                                 Traceback (most recent call last)",
      "\u001b[1;32m<ipython-input-8-b2141ec32b91>\u001b[0m in \u001b[0;36m<module>\u001b[1;34m()\u001b[0m\n\u001b[0;32m      4\u001b[0m \u001b[0msource_data\u001b[0m \u001b[1;33m=\u001b[0m \u001b[1;33m{\u001b[0m\u001b[1;33m}\u001b[0m\u001b[1;33m\u001b[0m\u001b[0m\n\u001b[0;32m      5\u001b[0m \u001b[0mplt\u001b[0m\u001b[1;33m.\u001b[0m\u001b[0mfigure\u001b[0m\u001b[1;33m(\u001b[0m\u001b[0mfigsize\u001b[0m\u001b[1;33m=\u001b[0m\u001b[1;33m(\u001b[0m\u001b[1;36m10\u001b[0m\u001b[1;33m,\u001b[0m\u001b[1;36m10\u001b[0m\u001b[1;33m)\u001b[0m\u001b[1;33m,\u001b[0m \u001b[0mdpi\u001b[0m\u001b[1;33m=\u001b[0m\u001b[1;36m80\u001b[0m\u001b[1;33m)\u001b[0m\u001b[1;33m\u001b[0m\u001b[0m\n\u001b[1;32m----> 6\u001b[1;33m \u001b[1;32mfor\u001b[0m \u001b[0mstatus\u001b[0m \u001b[1;32min\u001b[0m \u001b[0mstatusess\u001b[0m\u001b[1;33m:\u001b[0m\u001b[1;33m\u001b[0m\u001b[0m\n\u001b[0m\u001b[0;32m      7\u001b[0m     \u001b[0msource_data\u001b[0m\u001b[1;33m[\u001b[0m\u001b[0mstatus\u001b[0m\u001b[1;33m]\u001b[0m \u001b[1;33m=\u001b[0m \u001b[0mlist\u001b[0m\u001b[1;33m(\u001b[0m\u001b[0mgu_all_statuses\u001b[0m\u001b[1;33m[\u001b[0m\u001b[1;33m(\u001b[0m\u001b[0mgu_all_statuses\u001b[0m\u001b[1;33m.\u001b[0m\u001b[0mOLD_VALUE\u001b[0m\u001b[1;33m==\u001b[0m\u001b[0mstatus\u001b[0m\u001b[1;33m)\u001b[0m\u001b[1;33m]\u001b[0m\u001b[1;33m[\u001b[0m\u001b[1;34m'DURATION'\u001b[0m\u001b[1;33m]\u001b[0m\u001b[1;33m)\u001b[0m\u001b[1;33m\u001b[0m\u001b[0m\n\u001b[0;32m      8\u001b[0m \u001b[0mind\u001b[0m \u001b[1;33m=\u001b[0m \u001b[0mnp\u001b[0m\u001b[1;33m.\u001b[0m\u001b[0marange\u001b[0m\u001b[1;33m(\u001b[0m\u001b[0mlen\u001b[0m\u001b[1;33m(\u001b[0m\u001b[0musernames\u001b[0m\u001b[1;33m)\u001b[0m\u001b[1;33m)\u001b[0m\u001b[1;33m\u001b[0m\u001b[0m\n",
      "\u001b[1;31mNameError\u001b[0m: name 'statusess' is not defined"
     ]
    },
    {
     "data": {
      "text/plain": [
       "<matplotlib.figure.Figure at 0x201955254a8>"
      ]
     },
     "metadata": {},
     "output_type": "display_data"
    }
   ],
   "source": [
    "#gu_all_statuses = gu_all_statuses[(gu_all_statuses.AUTHOR_NAME!='IC16')&(gu_all_statuses.AUTHOR_NAME!='pr10')]\n",
    "usernames = gu_all_statuses['AUTHOR_DISPLAY_NAME'].unique()\n",
    "statuses = gu_all_statuses['OLD_VALUE'].unique()\n",
    "source_data = {}\n",
    "plt.figure(figsize=(10,10), dpi=80)\n",
    "for status in statuses:\n",
    "    source_data[status] = list(gu_all_statuses[(gu_all_statuses.OLD_VALUE==status)]['DURATION'])\n",
    "ind = np.arange(len(usernames))\n",
    "sum_total = [0 for _ in range(len(usernames))]\n",
    "r = rd.randint(0, 255)\n",
    "g = rd.randint(0, 255)\n",
    "b = rd.randint(0, 255)\n",
    "for key, value in source_data.items():\n",
    "    \n",
    "    in_color='#%02x%02x%02x' % (r % 255, g % 255, b % 255)\n",
    "    r, g, b = r + 150, g + 75, b + 40\n",
    "    plt.bar(ind, value, 0.5, color = in_color, bottom = sum_total, label=key)\n",
    "    sum_total = [x + y for x, y in zip(sum_total, value)]\n",
    "plt.xticks(ind, usernames)\n",
    "plt.tick_params(axis='x', rotation=60)\n",
    "plt.ylabel('Time(h)')\n",
    "plt.title('Users time spent by statuses')\n",
    "plt.legend(loc=\"upper left\")\n",
    "plt.show()"
   ]
  },
  {
   "cell_type": "code",
   "execution_count": null,
   "metadata": {},
   "outputs": [],
   "source": []
  },
  {
   "cell_type": "code",
   "execution_count": null,
   "metadata": {},
   "outputs": [],
   "source": []
  }
 ],
 "metadata": {
  "kernelspec": {
   "display_name": "Python 3",
   "language": "python",
   "name": "python3"
  },
  "language_info": {
   "codemirror_mode": {
    "name": "ipython",
    "version": 3
   },
   "file_extension": ".py",
   "mimetype": "text/x-python",
   "name": "python",
   "nbconvert_exporter": "python",
   "pygments_lexer": "ipython3",
   "version": "3.6.4"
  }
 },
 "nbformat": 4,
 "nbformat_minor": 2
}
